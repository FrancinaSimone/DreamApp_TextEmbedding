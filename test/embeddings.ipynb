{
 "cells": [
  {
   "cell_type": "markdown",
   "metadata": {},
   "source": [
    "Generate Embeddings"
   ]
  },
  {
   "cell_type": "code",
   "execution_count": 5,
   "metadata": {},
   "outputs": [],
   "source": [
    "import tensorflow_hub as hub\n",
    "import numpy as np\n",
    "\n",
    "# Load the Universal Sentence Encoder model\n",
    "embed = hub.load(\"https://tfhub.dev/google/universal-sentence-encoder/4\")\n",
    "\n",
    "def get_embedding(text):\n",
    "    return np.array(embed([text])[0])\n"
   ]
  },
  {
   "cell_type": "markdown",
   "metadata": {},
   "source": [
    "Storing Embeddings in Faiss Vector Database"
   ]
  },
  {
   "cell_type": "code",
   "execution_count": 6,
   "metadata": {},
   "outputs": [],
   "source": [
    "import faiss\n",
    "\n",
    "class FaissDB:\n",
    "    def __init__(self, embedding_dim):\n",
    "        self.index = faiss.IndexFlatL2(embedding_dim)\n",
    "\n",
    "    def add(self, embeddings, ids):\n",
    "        \"\"\"Add embeddings to the database.\"\"\"\n",
    "        self.index.add_with_ids(embeddings, ids)\n",
    "\n",
    "    def search(self, embedding, k=1):\n",
    "        \"\"\"Find k most similar embeddings in the database.\"\"\"\n",
    "        distances, indices = self.index.search(embedding, k)\n",
    "        return distances, indices\n"
   ]
  },
  {
   "cell_type": "markdown",
   "metadata": {},
   "source": [
    "Creating Database Table to store embeddings"
   ]
  },
  {
   "cell_type": "code",
   "execution_count": 11,
   "metadata": {},
   "outputs": [
    {
     "name": "stdout",
     "output_type": "stream",
     "text": [
      "Table 'dreams' already exists.\n"
     ]
    }
   ],
   "source": [
    "import psycopg2\n",
    "from config.config_secrets import DATABASE_CREDENTIALS\n",
    "\n",
    "DATABASE_CREDENTIALS = DATABASE_CREDENTIALS\n",
    "\n",
    "def create_text_embeddings_table():\n",
    "    try:\n",
    "        conn = psycopg2.connect(**DATABASE_CREDENTIALS)\n",
    "        cursor = conn.cursor()\n",
    "        \n",
    "        # Check if the 'dreams' table already exists\n",
    "        cursor.execute(\"SELECT EXISTS(SELECT FROM information_schema.tables WHERE table_name='dreams');\")\n",
    "        table_exists = cursor.fetchone()[0]\n",
    "\n",
    "        if not table_exists:\n",
    "            create_table_query = '''\n",
    "            CREATE TABLE TextEmbeddings (\n",
    "                story_id TEXT PRIMARY KEY,\n",
    "                culture_name TEXT,\n",
    "                title TEXT,\n",
    "                embedding REAL[] -- Assuming the embedding is a 1D array of REAL numbers\n",
    "            );\n",
    "            '''\n",
    "            \n",
    "            cursor.execute(create_table_query)\n",
    "            conn.commit()\n",
    "            \n",
    "            print(\"Table 'TextEmbeddings' created successfully!\")\n",
    "        else:\n",
    "            print(\"Table 'dreams' already exists.\")\n",
    "\n",
    "    except (Exception, psycopg2.Error) as error:\n",
    "        print(\"Error while connecting to PostgreSQL or executing the SQL command:\", error)\n",
    "\n",
    "    finally:\n",
    "        if cursor:\n",
    "            cursor.close()\n",
    "        if conn:\n",
    "            conn.close()\n",
    "\n",
    "if __name__ == \"__main__\":\n",
    "    create_text_embeddings_table()\n"
   ]
  },
  {
   "cell_type": "markdown",
   "metadata": {},
   "source": [
    "Intergration"
   ]
  },
  {
   "cell_type": "code",
   "execution_count": null,
   "metadata": {},
   "outputs": [],
   "source": [
    "import faiss\n",
    "import numpy as np\n",
    "import psycopg2\n",
    "import tensorflow_hub as hub\n",
    "from hashlib import sha256\n",
    "from config.config_secrets import DATABASE_CREDENTIALS\n",
    "\n",
    "# Setting the Scene & Preparing the Wizard's Chamber:\n",
    "database_info = DATABASE_CREDENTIALS\n",
    "DATABASE_CREDENTIALS = DATABASE_CREDENTIALS\n",
    "\n",
    "# Summoning the Magic Mirror: or Initialize the FAISS index\n",
    "faiss_index = faiss.IndexFlatL2(512)\n",
    "\n",
    "# Calling Upon a Knowledgeable Spirit: or Load Universal Sentence Encoder for embeddings\n",
    "embed = hub.load(\"https://tfhub.dev/google/universal-sentence-encoder/4\")\n",
    "\n",
    "# --- Helper Functions ---\n",
    "\n",
    "# Understanding the Spirit's Insight:\n",
    "def get_embedding(text):\n",
    "    \"\"\"Returns a 512-dimensional vector using Universal Sentence Encoder.\"\"\"\n",
    "    embeddings = embed([text])\n",
    "    return embeddings.numpy()[0]\n",
    "\n",
    "# Crafting a Unique Sigil:\n",
    "def generate_unique_id(title):\n",
    "    \"\"\"Generate a unique ID using SHA256 hashing.\"\"\"\n",
    "    return sha256(title.encode()).hexdigest()\n",
    "\n",
    "# Storing Treasures in the Vault:\n",
    "def insert_into_postgresql(story_id, culture_name, title, embedding):\n",
    "    \"\"\"Insert metadata, culture_name, title, and embedding into PostgreSQL.\"\"\"\n",
    "    try:\n",
    "        with psycopg2.connect(**DATABASE_CREDENTIALS) as conn:\n",
    "            with conn.cursor() as cursor:\n",
    "                insert_query = \"\"\"\n",
    "                INSERT INTO TextEmbeddings (story_id, culture_name, title, embedding)\n",
    "                VALUES (%s, %s, %s, %s);\n",
    "                \"\"\"\n",
    "                cursor.execute(insert_query, (story_id, culture_name, title, embedding))\n",
    "            conn.commit()\n",
    "    except Exception as e:\n",
    "        print(f\"Error inserting into PostgreSQL: {e}\")\n",
    "\n",
    "# Understanding the Essence:\n",
    "def normalize_vector(embedding):\n",
    "    return embedding / np.linalg.norm(embedding)\n",
    "\n",
    "# Storing the Essence and the Story:\n",
    "def insert_story_and_embedding(culture_name, title, text):\n",
    "    embedding = get_embedding(text)  # Generate embedding from text\n",
    "    embedding = normalize_vector(embedding)  # Normalize the embedding\n",
    "    story_id = generate_unique_id(title)\n",
    "\n",
    "    # Convert the NumPy array to a list **Remember to convert back into NumPy for FAISS\n",
    "    embedding_list = embedding.tolist()\n",
    "\n",
    "    # Store the story in PostgreSQL along with the embedding list\n",
    "    insert_into_postgresql(story_id, culture_name, title, embedding_list)\n",
    "\n",
    "    # Store the normalized embedding in Faiss\n",
    "    faiss_index.add(np.array([embedding]))\n",
    "\n",
    "\n",
    "# Seeking Similar Tales:\n",
    "def get_similar_stories(query_text, top_k=5):\n",
    "    query_embedding = get_embedding(query_text)\n",
    "    query_embedding = normalize_vector(query_embedding).reshape(1, -1)  # Normalize the query embedding\n",
    "    _, indices = faiss_index.search(query_embedding, top_k)\n",
    "    \n",
    "    story_ids = [story[0] for story in fetch_stories_by_ids(indices[0])]\n",
    "    return story_ids\n",
    "\n",
    "# Fetching Tales from the Vault:\n",
    "def fetch_stories_by_ids(story_ids):\n",
    "    \"\"\"Fetch stories from PostgreSQL using a list of story IDs.\"\"\"\n",
    "    stories = []\n",
    "    try:\n",
    "        with psycopg2.connect(**DATABASE_CREDENTIALS) as conn:\n",
    "            with conn.cursor() as cursor:\n",
    "                select_query = \"\"\"\n",
    "                SELECT story_id, culture_name, title, embedding \n",
    "                FROM TextEmbeddings \n",
    "                WHERE story_id = ANY(%s);\n",
    "                \"\"\"\n",
    "                cursor.execute(select_query, (story_ids,))\n",
    "                stories = cursor.fetchall()\n",
    "    except Exception as e:\n",
    "        print(f\"Error fetching stories from PostgreSQL: {e}\")\n",
    "    \n",
    "    return stories\n",
    "\n",
    "# Preserving the Magic Mirror's Knowledge:\n",
    "def save_faiss_index(filename=\"faiss_index.index\"):\n",
    "    \"\"\"Save the Faiss index to a file.\"\"\"\n",
    "    faiss.write_index(faiss_index, filename)\n",
    "\n",
    "def load_faiss_index(filename=\"faiss_index.index\"):\n",
    "    \"\"\"Load the Faiss index from a file.\"\"\"\n",
    "    global faiss_index\n",
    "    faiss_index = faiss.read_index(filename)\n",
    "\n",
    "# Modify this function to retrieve data from the PostgreSQL database\n",
    "def process_data_from_database():\n",
    "    try:\n",
    "        with psycopg2.connect(**DATABASE_CREDENTIALS) as conn:\n",
    "            with conn.cursor() as cursor:\n",
    "                select_query = \"\"\"\n",
    "                SELECT culture_name, title, text\n",
    "                FROM mythology;\n",
    "                \"\"\"\n",
    "                cursor.execute(select_query)\n",
    "                rows = cursor.fetchall()\n",
    "                for row in rows:\n",
    "                    culture_name, title, data = row\n",
    "                    insert_story_and_embedding(culture_name, title, data)\n",
    "    except Exception as e:\n",
    "        print(f\"Error fetching data from PostgreSQL: {e}\")\n",
    "\n",
    "# Call the modified data retrieval function\n",
    "process_data_from_database()\n",
    "\n",
    "try:\n",
    "    load_faiss_index()\n",
    "except Exception as e:\n",
    "    print(f\"Error: {e}\")\n"
   ]
  },
  {
   "cell_type": "code",
   "execution_count": 10,
   "metadata": {},
   "outputs": [
    {
     "name": "stdout",
     "output_type": "stream",
     "text": [
      "Model loaded successfully!\n"
     ]
    }
   ],
   "source": [
    "import tensorflow_hub as hub\n",
    "model = hub.load(\"https://tfhub.dev/google/universal-sentence-encoder/4\")\n",
    "print(\"Model loaded successfully!\")\n"
   ]
  }
 ],
 "metadata": {
  "kernelspec": {
   "display_name": "virtualdream",
   "language": "python",
   "name": "python3"
  },
  "language_info": {
   "codemirror_mode": {
    "name": "ipython",
    "version": 3
   },
   "file_extension": ".py",
   "mimetype": "text/x-python",
   "name": "python",
   "nbconvert_exporter": "python",
   "pygments_lexer": "ipython3",
   "version": "3.10.2"
  },
  "orig_nbformat": 4
 },
 "nbformat": 4,
 "nbformat_minor": 2
}
